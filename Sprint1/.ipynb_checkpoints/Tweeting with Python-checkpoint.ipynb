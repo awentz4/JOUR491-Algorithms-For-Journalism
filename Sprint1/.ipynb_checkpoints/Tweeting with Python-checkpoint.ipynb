{
 "cells": [
  {
   "cell_type": "markdown",
   "metadata": {},
   "source": [
    "# Tweeting with Python\n",
    "\n",
    "The mayor's press releases are online in a boring HTML table. We could automate checking it for our favorite topic: The flu. And, whenever it found flu related reports, it would tweet it. Here's what that looks like.\n",
    "\n",
    "First import Beautiful Soup, the Python 3 url handling bits with urlopen and Twython."
   ]
  },
  {
   "cell_type": "code",
   "execution_count": 41,
   "metadata": {
    "collapsed": false
   },
   "outputs": [],
   "source": [
    "from bs4 import BeautifulSoup\n",
    "from urllib.request import urlopen\n",
    "from twython import Twython"
   ]
  },
  {
   "cell_type": "markdown",
   "metadata": {},
   "source": [
    "Now set up your Twitter access per the Twython documentation. These keys are mine. Do not use them."
   ]
  },
  {
   "cell_type": "code",
   "execution_count": 42,
   "metadata": {
    "collapsed": true
   },
   "outputs": [],
   "source": [
    "API_KEY = 'fg6nkMBkYrNVsuybMIxu6ygdo'\n",
    "API_SECRET = 'acbNUzM906jmeI09QLbLXqp5ZNSDAj8wRjUT8HccCdCI5qIm5j'\n",
    "ACCESS_TOKEN = '2858390850-AHw6cPZ86nDNvQaS2tixqKRH3bnoQsIPZW5P9Tk'\n",
    "ACCESS_TOKEN_SECRET = 'i03JyaqC8KJ3kYG0nvtinJrGUtURSqTFgGz8swmDII9JB'"
   ]
  },
  {
   "cell_type": "markdown",
   "metadata": {},
   "source": [
    "Now we create a Twython twitter object that can access Twitter on our behalf."
   ]
  },
  {
   "cell_type": "code",
   "execution_count": 43,
   "metadata": {
    "collapsed": true
   },
   "outputs": [],
   "source": [
    "twitter = Twython(API_KEY, API_SECRET, ACCESS_TOKEN, ACCESS_TOKEN_SECRET)"
   ]
  },
  {
   "cell_type": "markdown",
   "metadata": {},
   "source": [
    "Now we get our data. We request the page from the mayor's website and then parse it."
   ]
  },
  {
   "cell_type": "code",
   "execution_count": 44,
   "metadata": {
    "collapsed": true
   },
   "outputs": [],
   "source": [
    "response = urlopen(\"http://www.lincoln.ne.gov/city/mayor/media/\")\n",
    "html = response.read()"
   ]
  },
  {
   "cell_type": "code",
   "execution_count": 45,
   "metadata": {
    "collapsed": false
   },
   "outputs": [],
   "source": [
    "soup = BeautifulSoup(html, \"html.parser\")"
   ]
  },
  {
   "cell_type": "markdown",
   "metadata": {},
   "source": [
    "This is simple, and for demonstration purposes, but it's a simple loop. You first narrow down the block of HTML you need -- in this case, all the links are in an Unordered List unironically called \"art.\" Then, I start another loop where I find the links in each list item. Then I give my condition -- in this case, only Tweet about influenza -- and the create the tweet. I have the actual Tweeting part commented out."
   ]
  },
  {
   "cell_type": "code",
   "execution_count": 46,
   "metadata": {
    "collapsed": false
   },
   "outputs": [
    {
     "name": "stdout",
     "output_type": "stream",
     "text": [
      "Influenza news alert: Health Department Reports Influenza Increase http://www.lincoln.ne.gov/city/mayor/media/2017/011317.htm\n"
     ]
    }
   ],
   "source": [
    "for link in soup.find_all(\"ul\", class_=\"art\"):\n",
    "    for url in link.find_all('a'):\n",
    "        if \"Influenza\" in url.contents[0]:\n",
    "            tweet = \"Influenza news alert: %s %s\" % (url.contents[0], \"http://www.lincoln.ne.gov\"+url['href'])\n",
    "            print(tweet)\n",
    "            #twitter.update_status(status=tweet) "
   ]
  },
  {
   "cell_type": "code",
   "execution_count": null,
   "metadata": {
    "collapsed": false
   },
   "outputs": [],
   "source": [
    "  "
   ]
  },
  {
   "cell_type": "code",
   "execution_count": null,
   "metadata": {
    "collapsed": true
   },
   "outputs": [],
   "source": []
  }
 ],
 "metadata": {
  "kernelspec": {
   "display_name": "Python 3",
   "language": "python",
   "name": "python3"
  },
  "language_info": {
   "codemirror_mode": {
    "name": "ipython",
    "version": 3
   },
   "file_extension": ".py",
   "mimetype": "text/x-python",
   "name": "python",
   "nbconvert_exporter": "python",
   "pygments_lexer": "ipython3",
   "version": "3.6.0"
  }
 },
 "nbformat": 4,
 "nbformat_minor": 2
}
